{
 "cells": [
  {
   "cell_type": "code",
   "execution_count": 1,
   "metadata": {},
   "outputs": [],
   "source": [
    "%load_ext autoreload\n",
    "%autoreload 2"
   ]
  },
  {
   "cell_type": "code",
   "execution_count": 2,
   "metadata": {},
   "outputs": [],
   "source": [
    "import sklearn.datasets as datasets\n",
    "from sklearn.model_selection import train_test_split\n",
    "\n",
    "digits = datasets.load_digits()\n",
    "data = digits['data']\n",
    "target = digits['target']\n",
    "\n",
    "x_train, x_test, y_train, y_test = train_test_split(data, target, random_state=0)"
   ]
  },
  {
   "cell_type": "code",
   "execution_count": 86,
   "metadata": {},
   "outputs": [
    {
     "name": "stderr",
     "output_type": "stream",
     "text": [
      "100%|██████████| 45/45 [00:03<00:00, 14.93it/s]\n"
     ]
    },
    {
     "data": {
      "text/plain": [
       "(array([2, 8, 2, 6, 6, 7, 1, 9, 8, 5, 2, 8, 6, 6, 6, 6, 1, 0, 5, 8, 8, 7,\n",
       "        8, 4, 7, 5, 4, 9, 2, 9, 4, 7, 6, 8, 9, 4, 3, 1, 0, 1, 8, 6, 7, 7,\n",
       "        9, 0, 7, 6, 2, 1, 9, 6, 7, 9, 0, 0, 5, 1, 6, 3, 0, 2, 3, 4, 1, 9,\n",
       "        7, 6, 9, 1, 8, 3, 5, 1, 2, 1, 2, 2, 9, 7, 2, 3, 6, 0, 5, 3, 7, 5,\n",
       "        1, 2, 9, 9, 3, 1, 7, 7, 4, 8, 5, 8, 5, 5, 2, 5, 9, 0, 7, 1, 4, 7,\n",
       "        3, 4, 8, 9, 7, 7, 8, 2, 1, 5, 2, 5, 3, 4, 1, 7, 0, 6, 1, 5, 5, 9,\n",
       "        9, 5, 9, 9, 5, 7, 5, 6, 2, 8, 6, 7, 6, 1, 5, 1, 5, 9, 9, 1, 5, 3,\n",
       "        6, 1, 8, 9, 7, 7, 6, 7, 6, 5, 6, 0, 8, 8, 9, 3, 6, 1, 0, 4, 1, 6,\n",
       "        3, 8, 6, 7, 4, 9, 6, 3, 0, 2, 3, 3, 0, 7, 7, 5, 7, 8, 0, 7, 1, 9,\n",
       "        6, 4, 5, 0, 1, 4, 6, 4, 3, 3, 0, 9, 5, 9, 2, 1, 4, 1, 1, 6, 8, 9,\n",
       "        2, 4, 9, 3, 7, 6, 2, 3, 3, 1, 6, 9, 3, 6, 3, 3, 2, 0, 7, 6, 1, 1,\n",
       "        9, 7, 2, 7, 1, 5, 5, 7, 5, 2, 3, 7, 2, 7, 5, 5, 7, 0, 9, 1, 6, 5,\n",
       "        9, 7, 4, 3, 8, 0, 3, 6, 4, 6, 3, 2, 6, 1, 8, 8, 4, 6, 7, 5, 2, 4,\n",
       "        5, 3, 2, 4, 6, 9, 4, 5, 4, 3, 4, 6, 2, 9, 0, 1, 7, 2, 0, 9, 6, 0,\n",
       "        4, 2, 0, 7, 5, 8, 5, 7, 8, 2, 8, 4, 3, 7, 2, 6, 7, 9, 5, 1, 0, 8,\n",
       "        2, 4, 9, 5, 6, 2, 2, 7, 2, 1, 5, 1, 6, 4, 5, 0, 9, 4, 1, 1, 7, 0,\n",
       "        8, 9, 0, 5, 4, 3, 1, 9, 6, 5, 3, 4, 4, 4, 8, 8, 7, 0, 9, 6, 3, 5,\n",
       "        2, 3, 0, 8, 8, 3, 1, 3, 3, 0, 0, 4, 6, 0, 7, 7, 6, 2, 0, 4, 4, 2,\n",
       "        3, 7, 1, 9, 8, 6, 9, 5, 6, 2, 2, 3, 1, 7, 7, 8, 0, 9, 3, 2, 1, 5,\n",
       "        5, 9, 1, 3, 7, 0, 0, 7, 0, 7, 5, 9, 9, 3, 4, 7, 1, 8, 9, 5, 3, 6,\n",
       "        2, 1, 6, 1, 1, 7, 5, 5, 1, 9]), 0.9222222222222223)"
      ]
     },
     "execution_count": 86,
     "metadata": {},
     "output_type": "execute_result"
    }
   ],
   "source": [
    "from lib.model import Model\n",
    "from sklearn.metrics import accuracy_score\n",
    "\n",
    "options = dict(\n",
    "    standardize = True,\n",
    "    l2_lambda = 1,\n",
    "    multiclass = 'ovo',\n",
    "    objective = 'huber_hinge',\n",
    "    kernel = dict(\n",
    "        fn = 'linear',\n",
    "        gamma = 10,\n",
    "        degree = 2\n",
    "    )\n",
    ")\n",
    "\n",
    "model = Model(options)\n",
    "model.fit(x_train, y_train, x_test, y_test)\n",
    "yhat = model.predict(x_test)\n",
    "yhat, accuracy_score(yhat, y_test)"
   ]
  },
  {
   "cell_type": "code",
   "execution_count": 87,
   "metadata": {},
   "outputs": [
    {
     "data": {
      "text/plain": [
       "(array([2, 8, 9, ..., 7, 7, 8]), 0.9480326651818857)"
      ]
     },
     "execution_count": 87,
     "metadata": {},
     "output_type": "execute_result"
    }
   ],
   "source": [
    "yhat = model.predict(x_train)\n",
    "yhat, accuracy_score(y_train, yhat)"
   ]
  },
  {
   "cell_type": "code",
   "execution_count": 88,
   "metadata": {},
   "outputs": [
    {
     "data": {
      "image/png": "[encoded data removed]",
      "text/plain": [
       "<matplotlib.figure.Figure at 0x1a0836f400>"
      ]
     },
     "metadata": {},
     "output_type": "display_data"
    }
   ],
   "source": [
    "model.plot(x_test, y_test, iters=20)"
   ]
  },
  {
   "cell_type": "code",
   "execution_count": null,
   "metadata": {},
   "outputs": [],
   "source": []
  },
  {
   "cell_type": "code",
   "execution_count": null,
   "metadata": {},
   "outputs": [],
   "source": []
  }
 ],
 "metadata": {
  "kernelspec": {
   "display_name": "Python 3",
   "language": "python",
   "name": "python3"
  },
  "language_info": {
   "codemirror_mode": {
    "name": "ipython",
    "version": 3
   },
   "file_extension": ".py",
   "mimetype": "text/x-python",
   "name": "python",
   "nbconvert_exporter": "python",
   "pygments_lexer": "ipython3",
   "version": "3.6.2"
  }
 },
 "nbformat": 4,
 "nbformat_minor": 2
}
