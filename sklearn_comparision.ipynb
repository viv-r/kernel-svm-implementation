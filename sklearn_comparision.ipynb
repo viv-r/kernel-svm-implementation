{
 "cells": [
  {
   "cell_type": "markdown",
   "metadata": {},
   "source": [
    "### Comparing with sklearn's SVC model"
   ]
  },
  {
   "cell_type": "markdown",
   "metadata": {},
   "source": [
    "In this demo, we run sklearn's SVC model using a rbf kernel and compare it to the implementation\n",
    "in this repo using the same kernel.\n",
    "\n",
    "The dataset used is vowels dataset from the website https://statweb.stanford.edu/~tibs/ElemStatLearn/."
   ]
  },
  {
   "cell_type": "code",
   "execution_count": 1,
   "metadata": {},
   "outputs": [
    {
     "data": {
      "text/html": [
       "<div>\n",
       "<style scoped>\n",
       "    .dataframe tbody tr th:only-of-type {\n",
       "        vertical-align: middle;\n",
       "    }\n",
       "\n",
       "    .dataframe tbody tr th {\n",
       "        vertical-align: top;\n",
       "    }\n",
       "\n",
       "    .dataframe thead th {\n",
       "        text-align: right;\n",
       "    }\n",
       "</style>\n",
       "<table border=\"1\" class=\"dataframe\">\n",
       "  <thead>\n",
       "    <tr style=\"text-align: right;\">\n",
       "      <th></th>\n",
       "      <th>y</th>\n",
       "      <th>x.1</th>\n",
       "      <th>x.2</th>\n",
       "      <th>x.3</th>\n",
       "      <th>x.4</th>\n",
       "      <th>x.5</th>\n",
       "      <th>x.6</th>\n",
       "      <th>x.7</th>\n",
       "      <th>x.8</th>\n",
       "      <th>x.9</th>\n",
       "      <th>x.10</th>\n",
       "    </tr>\n",
       "    <tr>\n",
       "      <th>row.names</th>\n",
       "      <th></th>\n",
       "      <th></th>\n",
       "      <th></th>\n",
       "      <th></th>\n",
       "      <th></th>\n",
       "      <th></th>\n",
       "      <th></th>\n",
       "      <th></th>\n",
       "      <th></th>\n",
       "      <th></th>\n",
       "      <th></th>\n",
       "    </tr>\n",
       "  </thead>\n",
       "  <tbody>\n",
       "    <tr>\n",
       "      <th>1</th>\n",
       "      <td>1</td>\n",
       "      <td>-3.639</td>\n",
       "      <td>0.418</td>\n",
       "      <td>-0.670</td>\n",
       "      <td>1.779</td>\n",
       "      <td>-0.168</td>\n",
       "      <td>1.627</td>\n",
       "      <td>-0.388</td>\n",
       "      <td>0.529</td>\n",
       "      <td>-0.874</td>\n",
       "      <td>-0.814</td>\n",
       "    </tr>\n",
       "    <tr>\n",
       "      <th>2</th>\n",
       "      <td>2</td>\n",
       "      <td>-3.327</td>\n",
       "      <td>0.496</td>\n",
       "      <td>-0.694</td>\n",
       "      <td>1.365</td>\n",
       "      <td>-0.265</td>\n",
       "      <td>1.933</td>\n",
       "      <td>-0.363</td>\n",
       "      <td>0.510</td>\n",
       "      <td>-0.621</td>\n",
       "      <td>-0.488</td>\n",
       "    </tr>\n",
       "    <tr>\n",
       "      <th>3</th>\n",
       "      <td>3</td>\n",
       "      <td>-2.120</td>\n",
       "      <td>0.894</td>\n",
       "      <td>-1.576</td>\n",
       "      <td>0.147</td>\n",
       "      <td>-0.707</td>\n",
       "      <td>1.559</td>\n",
       "      <td>-0.579</td>\n",
       "      <td>0.676</td>\n",
       "      <td>-0.809</td>\n",
       "      <td>-0.049</td>\n",
       "    </tr>\n",
       "    <tr>\n",
       "      <th>4</th>\n",
       "      <td>4</td>\n",
       "      <td>-2.287</td>\n",
       "      <td>1.809</td>\n",
       "      <td>-1.498</td>\n",
       "      <td>1.012</td>\n",
       "      <td>-1.053</td>\n",
       "      <td>1.060</td>\n",
       "      <td>-0.567</td>\n",
       "      <td>0.235</td>\n",
       "      <td>-0.091</td>\n",
       "      <td>-0.795</td>\n",
       "    </tr>\n",
       "    <tr>\n",
       "      <th>5</th>\n",
       "      <td>5</td>\n",
       "      <td>-2.598</td>\n",
       "      <td>1.938</td>\n",
       "      <td>-0.846</td>\n",
       "      <td>1.062</td>\n",
       "      <td>-1.633</td>\n",
       "      <td>0.764</td>\n",
       "      <td>0.394</td>\n",
       "      <td>-0.150</td>\n",
       "      <td>0.277</td>\n",
       "      <td>-0.396</td>\n",
       "    </tr>\n",
       "  </tbody>\n",
       "</table>\n",
       "</div>"
      ],
      "text/plain": [
       "           y    x.1    x.2    x.3    x.4    x.5    x.6    x.7    x.8    x.9  \\\n",
       "row.names                                                                     \n",
       "1          1 -3.639  0.418 -0.670  1.779 -0.168  1.627 -0.388  0.529 -0.874   \n",
       "2          2 -3.327  0.496 -0.694  1.365 -0.265  1.933 -0.363  0.510 -0.621   \n",
       "3          3 -2.120  0.894 -1.576  0.147 -0.707  1.559 -0.579  0.676 -0.809   \n",
       "4          4 -2.287  1.809 -1.498  1.012 -1.053  1.060 -0.567  0.235 -0.091   \n",
       "5          5 -2.598  1.938 -0.846  1.062 -1.633  0.764  0.394 -0.150  0.277   \n",
       "\n",
       "            x.10  \n",
       "row.names         \n",
       "1         -0.814  \n",
       "2         -0.488  \n",
       "3         -0.049  \n",
       "4         -0.795  \n",
       "5         -0.396  "
      ]
     },
     "metadata": {},
     "output_type": "display_data"
    },
    {
     "data": {
      "text/html": [
       "<div>\n",
       "<style scoped>\n",
       "    .dataframe tbody tr th:only-of-type {\n",
       "        vertical-align: middle;\n",
       "    }\n",
       "\n",
       "    .dataframe tbody tr th {\n",
       "        vertical-align: top;\n",
       "    }\n",
       "\n",
       "    .dataframe thead th {\n",
       "        text-align: right;\n",
       "    }\n",
       "</style>\n",
       "<table border=\"1\" class=\"dataframe\">\n",
       "  <thead>\n",
       "    <tr style=\"text-align: right;\">\n",
       "      <th></th>\n",
       "      <th>y</th>\n",
       "      <th>x.1</th>\n",
       "      <th>x.2</th>\n",
       "      <th>x.3</th>\n",
       "      <th>x.4</th>\n",
       "      <th>x.5</th>\n",
       "      <th>x.6</th>\n",
       "      <th>x.7</th>\n",
       "      <th>x.8</th>\n",
       "      <th>x.9</th>\n",
       "      <th>x.10</th>\n",
       "    </tr>\n",
       "    <tr>\n",
       "      <th>row.names</th>\n",
       "      <th></th>\n",
       "      <th></th>\n",
       "      <th></th>\n",
       "      <th></th>\n",
       "      <th></th>\n",
       "      <th></th>\n",
       "      <th></th>\n",
       "      <th></th>\n",
       "      <th></th>\n",
       "      <th></th>\n",
       "      <th></th>\n",
       "    </tr>\n",
       "  </thead>\n",
       "  <tbody>\n",
       "    <tr>\n",
       "      <th>1</th>\n",
       "      <td>1</td>\n",
       "      <td>-1.149</td>\n",
       "      <td>-0.904</td>\n",
       "      <td>-1.988</td>\n",
       "      <td>0.739</td>\n",
       "      <td>-0.060</td>\n",
       "      <td>1.206</td>\n",
       "      <td>0.864</td>\n",
       "      <td>1.196</td>\n",
       "      <td>-0.300</td>\n",
       "      <td>-0.467</td>\n",
       "    </tr>\n",
       "    <tr>\n",
       "      <th>2</th>\n",
       "      <td>2</td>\n",
       "      <td>-2.613</td>\n",
       "      <td>-0.092</td>\n",
       "      <td>-0.540</td>\n",
       "      <td>0.484</td>\n",
       "      <td>0.389</td>\n",
       "      <td>1.741</td>\n",
       "      <td>0.198</td>\n",
       "      <td>0.257</td>\n",
       "      <td>-0.375</td>\n",
       "      <td>-0.604</td>\n",
       "    </tr>\n",
       "    <tr>\n",
       "      <th>3</th>\n",
       "      <td>3</td>\n",
       "      <td>-2.505</td>\n",
       "      <td>0.632</td>\n",
       "      <td>-0.593</td>\n",
       "      <td>0.304</td>\n",
       "      <td>0.496</td>\n",
       "      <td>0.824</td>\n",
       "      <td>-0.162</td>\n",
       "      <td>0.181</td>\n",
       "      <td>-0.363</td>\n",
       "      <td>-0.764</td>\n",
       "    </tr>\n",
       "    <tr>\n",
       "      <th>4</th>\n",
       "      <td>4</td>\n",
       "      <td>-1.768</td>\n",
       "      <td>1.769</td>\n",
       "      <td>-1.142</td>\n",
       "      <td>-0.739</td>\n",
       "      <td>-0.086</td>\n",
       "      <td>0.120</td>\n",
       "      <td>-0.230</td>\n",
       "      <td>0.217</td>\n",
       "      <td>-0.009</td>\n",
       "      <td>-0.279</td>\n",
       "    </tr>\n",
       "    <tr>\n",
       "      <th>5</th>\n",
       "      <td>5</td>\n",
       "      <td>-2.671</td>\n",
       "      <td>3.155</td>\n",
       "      <td>-0.514</td>\n",
       "      <td>0.133</td>\n",
       "      <td>-0.964</td>\n",
       "      <td>0.234</td>\n",
       "      <td>-0.071</td>\n",
       "      <td>1.192</td>\n",
       "      <td>0.254</td>\n",
       "      <td>-0.471</td>\n",
       "    </tr>\n",
       "  </tbody>\n",
       "</table>\n",
       "</div>"
      ],
      "text/plain": [
       "           y    x.1    x.2    x.3    x.4    x.5    x.6    x.7    x.8    x.9  \\\n",
       "row.names                                                                     \n",
       "1          1 -1.149 -0.904 -1.988  0.739 -0.060  1.206  0.864  1.196 -0.300   \n",
       "2          2 -2.613 -0.092 -0.540  0.484  0.389  1.741  0.198  0.257 -0.375   \n",
       "3          3 -2.505  0.632 -0.593  0.304  0.496  0.824 -0.162  0.181 -0.363   \n",
       "4          4 -1.768  1.769 -1.142 -0.739 -0.086  0.120 -0.230  0.217 -0.009   \n",
       "5          5 -2.671  3.155 -0.514  0.133 -0.964  0.234 -0.071  1.192  0.254   \n",
       "\n",
       "            x.10  \n",
       "row.names         \n",
       "1         -0.467  \n",
       "2         -0.604  \n",
       "3         -0.764  \n",
       "4         -0.279  \n",
       "5         -0.471  "
      ]
     },
     "metadata": {},
     "output_type": "display_data"
    }
   ],
   "source": [
    "import pandas as pd\n",
    "import numpy as np\n",
    "\n",
    "train = pd.read_csv('https://web.stanford.edu/~hastie/ElemStatLearn/datasets/vowel.train', index_col=0)\n",
    "test = pd.read_csv('https://web.stanford.edu/~hastie/ElemStatLearn/datasets/vowel.test', index_col=0)\n",
    "x_train = train.drop('y', axis=1).values\n",
    "y_train = train['y'].values\n",
    "x_test = test.drop('y', axis=1).values\n",
    "y_test = test['y'].values\n",
    "\n",
    "display(train.head())\n",
    "display(test.head())"
   ]
  },
  {
   "cell_type": "markdown",
   "metadata": {},
   "source": [
    "##### Fitting a sklearn kernel SVM"
   ]
  },
  {
   "cell_type": "code",
   "execution_count": 2,
   "metadata": {},
   "outputs": [
    {
     "name": "stdout",
     "output_type": "stream",
     "text": [
      "CPU times: user 10.1 ms, sys: 251 µs, total: 10.4 ms\n",
      "Wall time: 10.8 ms\n"
     ]
    },
    {
     "data": {
      "text/plain": [
       "SVC(C=1.0, cache_size=200, class_weight=None, coef0=0.0,\n",
       "  decision_function_shape='ovr', degree=3, gamma=0.1, kernel='rbf',\n",
       "  max_iter=-1, probability=False, random_state=None, shrinking=True,\n",
       "  tol=0.001, verbose=False)"
      ]
     },
     "execution_count": 2,
     "metadata": {},
     "output_type": "execute_result"
    }
   ],
   "source": [
    "from sklearn.preprocessing import StandardScaler\n",
    "from sklearn.svm import SVC\n",
    "from sklearn.multiclass import OneVsOneClassifier\n",
    "\n",
    "scaler = StandardScaler().fit(x_train)\n",
    "x_train_scaled = scaler.transform(x_train)\n",
    "x_test_scaled = scaler.transform(x_test)\n",
    "\n",
    "model = SVC(kernel='rbf', gamma=0.1)\n",
    "%time model.fit(x_train_scaled, y_train)"
   ]
  },
  {
   "cell_type": "code",
   "execution_count": 3,
   "metadata": {},
   "outputs": [
    {
     "name": "stdout",
     "output_type": "stream",
     "text": [
      "Accuracy on test 0.6125541125541125\n"
     ]
    }
   ],
   "source": [
    "from sklearn.metrics import accuracy_score\n",
    "\n",
    "yhat = model.predict(x_test_scaled)\n",
    "print('Accuracy on test', accuracy_score(yhat, y_test))"
   ]
  },
  {
   "cell_type": "markdown",
   "metadata": {},
   "source": [
    "##### Fitting the model from this library"
   ]
  },
  {
   "cell_type": "code",
   "execution_count": 4,
   "metadata": {},
   "outputs": [
    {
     "name": "stderr",
     "output_type": "stream",
     "text": [
      "100%|██████████| 55/55 [00:00<00:00, 113.30it/s]"
     ]
    },
    {
     "name": "stdout",
     "output_type": "stream",
     "text": [
      "CPU times: user 475 ms, sys: 7.98 ms, total: 483 ms\n",
      "Wall time: 487 ms\n"
     ]
    },
    {
     "name": "stderr",
     "output_type": "stream",
     "text": [
      "\n"
     ]
    }
   ],
   "source": [
    "from lib.model import Model\n",
    "from sklearn.metrics import accuracy_score\n",
    "\n",
    "options = dict(\n",
    "    l2_lambda = 1,\n",
    "    objective = 'huber_hinge',\n",
    "    kernel = dict(\n",
    "        fn = 'rbf',\n",
    "        gamma = 1\n",
    "    )\n",
    ")\n",
    "\n",
    "model = Model(options)\n",
    "%time model.fit(x_train, y_train)"
   ]
  },
  {
   "cell_type": "code",
   "execution_count": 5,
   "metadata": {},
   "outputs": [
    {
     "name": "stdout",
     "output_type": "stream",
     "text": [
      "Accuracy on test 0.6147186147186147\n"
     ]
    }
   ],
   "source": [
    "yhat = model.predict(x_test)\n",
    "print('Accuracy on test', accuracy_score(yhat, y_test))"
   ]
  },
  {
   "cell_type": "markdown",
   "metadata": {},
   "source": [
    "The test accuracies are similar to each other, however, sklearn's model runs much faster."
   ]
  }
 ],
 "metadata": {
  "kernelspec": {
   "display_name": "Python 3",
   "language": "python",
   "name": "python3"
  },
  "language_info": {
   "codemirror_mode": {
    "name": "ipython",
    "version": 3
   },
   "file_extension": ".py",
   "mimetype": "text/x-python",
   "name": "python",
   "nbconvert_exporter": "python",
   "pygments_lexer": "ipython3",
   "version": "3.6.2"
  }
 },
 "nbformat": 4,
 "nbformat_minor": 2
}
